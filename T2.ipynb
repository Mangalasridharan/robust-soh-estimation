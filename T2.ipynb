{
 "cells": [
  {
   "cell_type": "code",
   "execution_count": 14,
   "id": "53394299",
   "metadata": {},
   "outputs": [],
   "source": [
    "import pandas as pd \n",
    "import numpy as np\n",
    "import matplotlib.pyplot as plt "
   ]
  },
  {
   "cell_type": "code",
   "execution_count": 3,
   "id": "9eec40f5",
   "metadata": {},
   "outputs": [
    {
     "data": {
      "application/vnd.microsoft.datawrangler.viewer.v0+json": {
       "columns": [
        {
         "name": "index",
         "rawType": "int64",
         "type": "integer"
        },
        {
         "name": "time/s",
         "rawType": "float64",
         "type": "float"
        },
        {
         "name": "control/V/mA",
         "rawType": "float64",
         "type": "float"
        },
        {
         "name": "Ecell/V",
         "rawType": "float64",
         "type": "float"
        },
        {
         "name": "<I>/mA",
         "rawType": "float64",
         "type": "float"
        },
        {
         "name": "Q discharge/mA.h",
         "rawType": "float64",
         "type": "float"
        },
        {
         "name": "Q charge/mA.h",
         "rawType": "float64",
         "type": "float"
        },
        {
         "name": "control/V",
         "rawType": "float64",
         "type": "float"
        },
        {
         "name": "control/mA",
         "rawType": "float64",
         "type": "float"
        },
        {
         "name": "cycle number",
         "rawType": "float64",
         "type": "float"
        }
       ],
       "ref": "735ddf32-b0aa-4417-8f76-bd425c8e2cc2",
       "rows": [
        [
         "0",
         "0.0",
         "3500.0",
         "3.149101",
         "0.0583109711460067",
         "0.0",
         "0.001943893500434",
         "0.0",
         "3500.0",
         "2.0"
        ],
        [
         "1",
         "0.0140000006722402",
         "3500.0",
         "3.1543808",
         "3499.796569259654",
         "0.0",
         "0.0155542141384548",
         "0.0",
         "3500.0",
         "2.0"
        ],
        [
         "2",
         "0.0700000033393735",
         "3500.0",
         "3.1594632",
         "3500.127388510125",
         "0.0",
         "0.0700006427680121",
         "0.0",
         "3500.0",
         "2.0"
        ],
        [
         "3",
         "0.202000009609037",
         "3500.0",
         "3.1644671000000004",
         "3500.217621982486",
         "0.0",
         "0.1983419616699219",
         "0.0",
         "3500.0",
         "2.0"
        ],
        [
         "4",
         "0.4120000195689499",
         "3500.0",
         "3.1696284",
         "3500.4028308566026",
         "0.0",
         "0.4025321365017361",
         "0.0",
         "3500.0",
         "2.0"
        ]
       ],
       "shape": {
        "columns": 9,
        "rows": 5
       }
      },
      "text/html": [
       "<div>\n",
       "<style scoped>\n",
       "    .dataframe tbody tr th:only-of-type {\n",
       "        vertical-align: middle;\n",
       "    }\n",
       "\n",
       "    .dataframe tbody tr th {\n",
       "        vertical-align: top;\n",
       "    }\n",
       "\n",
       "    .dataframe thead th {\n",
       "        text-align: right;\n",
       "    }\n",
       "</style>\n",
       "<table border=\"1\" class=\"dataframe\">\n",
       "  <thead>\n",
       "    <tr style=\"text-align: right;\">\n",
       "      <th></th>\n",
       "      <th>time/s</th>\n",
       "      <th>control/V/mA</th>\n",
       "      <th>Ecell/V</th>\n",
       "      <th>&lt;I&gt;/mA</th>\n",
       "      <th>Q discharge/mA.h</th>\n",
       "      <th>Q charge/mA.h</th>\n",
       "      <th>control/V</th>\n",
       "      <th>control/mA</th>\n",
       "      <th>cycle number</th>\n",
       "    </tr>\n",
       "  </thead>\n",
       "  <tbody>\n",
       "    <tr>\n",
       "      <th>0</th>\n",
       "      <td>0.000</td>\n",
       "      <td>3500.0</td>\n",
       "      <td>3.149101</td>\n",
       "      <td>0.058311</td>\n",
       "      <td>0.0</td>\n",
       "      <td>0.001944</td>\n",
       "      <td>0.0</td>\n",
       "      <td>3500.0</td>\n",
       "      <td>2.0</td>\n",
       "    </tr>\n",
       "    <tr>\n",
       "      <th>1</th>\n",
       "      <td>0.014</td>\n",
       "      <td>3500.0</td>\n",
       "      <td>3.154381</td>\n",
       "      <td>3499.796569</td>\n",
       "      <td>0.0</td>\n",
       "      <td>0.015554</td>\n",
       "      <td>0.0</td>\n",
       "      <td>3500.0</td>\n",
       "      <td>2.0</td>\n",
       "    </tr>\n",
       "    <tr>\n",
       "      <th>2</th>\n",
       "      <td>0.070</td>\n",
       "      <td>3500.0</td>\n",
       "      <td>3.159463</td>\n",
       "      <td>3500.127389</td>\n",
       "      <td>0.0</td>\n",
       "      <td>0.070001</td>\n",
       "      <td>0.0</td>\n",
       "      <td>3500.0</td>\n",
       "      <td>2.0</td>\n",
       "    </tr>\n",
       "    <tr>\n",
       "      <th>3</th>\n",
       "      <td>0.202</td>\n",
       "      <td>3500.0</td>\n",
       "      <td>3.164467</td>\n",
       "      <td>3500.217622</td>\n",
       "      <td>0.0</td>\n",
       "      <td>0.198342</td>\n",
       "      <td>0.0</td>\n",
       "      <td>3500.0</td>\n",
       "      <td>2.0</td>\n",
       "    </tr>\n",
       "    <tr>\n",
       "      <th>4</th>\n",
       "      <td>0.412</td>\n",
       "      <td>3500.0</td>\n",
       "      <td>3.169628</td>\n",
       "      <td>3500.402831</td>\n",
       "      <td>0.0</td>\n",
       "      <td>0.402532</td>\n",
       "      <td>0.0</td>\n",
       "      <td>3500.0</td>\n",
       "      <td>2.0</td>\n",
       "    </tr>\n",
       "  </tbody>\n",
       "</table>\n",
       "</div>"
      ],
      "text/plain": [
       "   time/s  control/V/mA   Ecell/V       <I>/mA  Q discharge/mA.h  \\\n",
       "0   0.000        3500.0  3.149101     0.058311               0.0   \n",
       "1   0.014        3500.0  3.154381  3499.796569               0.0   \n",
       "2   0.070        3500.0  3.159463  3500.127389               0.0   \n",
       "3   0.202        3500.0  3.164467  3500.217622               0.0   \n",
       "4   0.412        3500.0  3.169628  3500.402831               0.0   \n",
       "\n",
       "   Q charge/mA.h  control/V  control/mA  cycle number  \n",
       "0       0.001944        0.0      3500.0           2.0  \n",
       "1       0.015554        0.0      3500.0           2.0  \n",
       "2       0.070001        0.0      3500.0           2.0  \n",
       "3       0.198342        0.0      3500.0           2.0  \n",
       "4       0.402532        0.0      3500.0           2.0  "
      ]
     },
     "execution_count": 3,
     "metadata": {},
     "output_type": "execute_result"
    }
   ],
   "source": [
    "df = pd.read_csv(r'F:\\College\\SEM 7\\19CCE495-Project Phase I\\Dataset\\Dataset_1_NCA_battery\\Dataset_1_NCA_battery\\CY25-1_1-#1.csv')\n",
    "df.head()"
   ]
  },
  {
   "cell_type": "code",
   "execution_count": 23,
   "id": "be709975",
   "metadata": {},
   "outputs": [
    {
     "name": "stdout",
     "output_type": "stream",
     "text": [
      "(32900,)\n",
      "(32900,)\n",
      "(32900,)\n",
      "(32900,)\n",
      "(32900,)\n"
     ]
    }
   ],
   "source": [
    "Voltage=df['Ecell/V'].to_numpy()\n",
    "print(Voltage.shape)\n",
    "Current=df['<I>/mA'].to_numpy()\n",
    "print(Current.shape)\n",
    "Q_discharge=df['Q discharge/mA.h'].to_numpy()\n",
    "print(Q_discharge.shape)\n",
    "Q_charge=df['Q charge/mA.h'].to_numpy()\n",
    "print(Q_charge.shape)\n",
    "\n",
    "cycle_number=df['cycle number'].to_numpy()\n",
    "print(cycle_number.shape)\n"
   ]
  },
  {
   "cell_type": "code",
   "execution_count": 29,
   "id": "acd0d3ed",
   "metadata": {},
   "outputs": [
    {
     "name": "stdout",
     "output_type": "stream",
     "text": [
      "(32900,)\n"
     ]
    }
   ],
   "source": [
    "Battery_Capacity = 3.5 # mAh\n",
    "SOC = np.zeros(Voltage.shape)\n",
    "for i in range(len(Voltage)):\n",
    "    if Current[i]>0:\n",
    "        SOC[i] = (Q_charge[i] / Battery_Capacity)*100\n",
    "    else:\n",
    "        SOC[i] = 100-(Q_discharge[i] / Battery_Capacity)*100\n",
    "\n",
    "print(SOC.shape)\n",
    "\n"
   ]
  },
  {
   "cell_type": "code",
   "execution_count": null,
   "id": "acad0ff3",
   "metadata": {},
   "outputs": [
    {
     "ename": "IndexError",
     "evalue": "too many indices for array: array is 1-dimensional, but 2 were indexed",
     "output_type": "error",
     "traceback": [
      "\u001b[31m---------------------------------------------------------------------------\u001b[39m",
      "\u001b[31mIndexError\u001b[39m                                Traceback (most recent call last)",
      "\u001b[36mCell\u001b[39m\u001b[36m \u001b[39m\u001b[32mIn[36]\u001b[39m\u001b[32m, line 34\u001b[39m\n\u001b[32m     32\u001b[39m     \u001b[38;5;66;03m# Color based on cycle progression\u001b[39;00m\n\u001b[32m     33\u001b[39m     color = plt.cm.viridis(cyc / max_cycle)\n\u001b[32m---> \u001b[39m\u001b[32m34\u001b[39m     ax.plot(\u001b[43mSOC_cycle\u001b[49m\u001b[43m[\u001b[49m\u001b[43m:\u001b[49m\u001b[43m,\u001b[49m\u001b[43m-\u001b[49m\u001b[32;43m1\u001b[39;49m\u001b[43m]\u001b[49m, V, color=color, linewidth=\u001b[32m0.8\u001b[39m)\n\u001b[32m     36\u001b[39m ax.set_xlabel(\u001b[33m\"\u001b[39m\u001b[33mSOC (0-1)\u001b[39m\u001b[33m\"\u001b[39m)\n\u001b[32m     37\u001b[39m ax.set_ylabel(\u001b[33m\"\u001b[39m\u001b[33mVoltage (V)\u001b[39m\u001b[33m\"\u001b[39m)\n",
      "\u001b[31mIndexError\u001b[39m: too many indices for array: array is 1-dimensional, but 2 were indexed"
     ]
    },
    {
     "data": {
      "image/png": "[encoded data removed]",
      "text/plain": [
       "<Figure size 800x600 with 1 Axes>"
      ]
     },
     "metadata": {},
     "output_type": "display_data"
    }
   ],
   "source": [
    "import numpy as np\n",
    "import matplotlib.pyplot as plt\n",
    "from matplotlib.cm import ScalarMappable\n",
    "\n",
    "Voltage = df['Ecell/V'].to_numpy()\n",
    "Current = df['<I>/mA'].to_numpy()\n",
    "Q_discharge = df['Q discharge/mA.h'].to_numpy()\n",
    "cycle_number = df['cycle number'].to_numpy()\n",
    "\n",
    "Battery_Capacity = 3.5  # Ah (3500 mAh)\n",
    "\n",
    "unique_cycles = np.unique(cycle_number)\n",
    "max_cycle = unique_cycles.max()\n",
    "\n",
    "fig, ax = plt.subplots(figsize=(8,6))\n",
    "\n",
    "for cyc in unique_cycles:\n",
    "    # Mask for this cycle's discharge segment\n",
    "    mask = (cycle_number == cyc) & (Current < 0)\n",
    "    \n",
    "    if np.sum(mask) < 10:  # skip very short cycles\n",
    "        continue\n",
    "    \n",
    "    # Extract data for this cycle only\n",
    "    V = Voltage[mask]\n",
    "    Qd = Q_discharge[mask]\n",
    "    \n",
    "    # ✅ RESET discharge capacity for this cycle\n",
    "    Qd_rel = Qd - Qd[0]          # starts at 0 for this cycle\n",
    "    SOC_cycle = (Qd_rel / Battery_Capacity)  # goes 1 → ~0\n",
    "    \n",
    "    # Color based on cycle progression\n",
    "    color = plt.cm.viridis(cyc / max_cycle)\n",
    "    ax.plot(SOC_cycle[::-1], V, color=color, linewidth=0.8)\n",
    "\n",
    "ax.set_xlabel(\"SOC (0-1)\")\n",
    "ax.set_ylabel(\"Voltage (V)\")\n",
    "ax.set_title(\"Discharge Curves (Voltage vs SOC)\")\n",
    "ax.invert_xaxis()  # SOC from 1→0\n",
    "\n",
    "# Add colorbar for cycle number\n",
    "sm = ScalarMappable(cmap='viridis', norm=plt.Normalize(vmin=unique_cycles.min(), vmax=max_cycle))\n",
    "sm.set_array([])\n",
    "cbar = fig.colorbar(sm, ax=ax)\n",
    "cbar.set_label(\"Cycle Number\")\n",
    "\n",
    "plt.show()\n"
   ]
  },
  {
   "cell_type": "code",
   "execution_count": null,
   "id": "4f594be5",
   "metadata": {},
   "outputs": [],
   "source": []
  }
 ],
 "metadata": {
  "kernelspec": {
   "display_name": "Python 3",
   "language": "python",
   "name": "python3"
  },
  "language_info": {
   "codemirror_mode": {
    "name": "ipython",
    "version": 3
   },
   "file_extension": ".py",
   "mimetype": "text/x-python",
   "name": "python",
   "nbconvert_exporter": "python",
   "pygments_lexer": "ipython3",
   "version": "3.11.9"
  }
 },
 "nbformat": 4,
 "nbformat_minor": 5
}
